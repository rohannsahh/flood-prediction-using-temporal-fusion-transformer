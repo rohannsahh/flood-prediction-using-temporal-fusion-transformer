{
 "cells": [
  {
   "cell_type": "code",
   "execution_count": 1,
   "id": "0d108b39",
   "metadata": {},
   "outputs": [
    {
     "name": "stdout",
     "output_type": "stream",
     "text": [
      "Looking in indexes: https://download.pytorch.org/whl/cu121\n",
      "Requirement already satisfied: torch in ./.venv/lib/python3.12/site-packages (2.5.1+cu121)\n",
      "Requirement already satisfied: torchvision in ./.venv/lib/python3.12/site-packages (0.20.1+cu121)\n",
      "Requirement already satisfied: torchaudio in ./.venv/lib/python3.12/site-packages (2.5.1+cu121)\n",
      "Requirement already satisfied: filelock in ./.venv/lib/python3.12/site-packages (from torch) (3.13.1)\n",
      "Requirement already satisfied: typing-extensions>=4.8.0 in ./.venv/lib/python3.12/site-packages (from torch) (4.12.2)\n",
      "Requirement already satisfied: networkx in ./.venv/lib/python3.12/site-packages (from torch) (3.3)\n",
      "Requirement already satisfied: jinja2 in ./.venv/lib/python3.12/site-packages (from torch) (3.1.4)\n",
      "Requirement already satisfied: fsspec in ./.venv/lib/python3.12/site-packages (from torch) (2024.6.1)\n",
      "Requirement already satisfied: nvidia-cuda-nvrtc-cu12==12.1.105 in ./.venv/lib/python3.12/site-packages (from torch) (12.1.105)\n",
      "Requirement already satisfied: nvidia-cuda-runtime-cu12==12.1.105 in ./.venv/lib/python3.12/site-packages (from torch) (12.1.105)\n",
      "Requirement already satisfied: nvidia-cuda-cupti-cu12==12.1.105 in ./.venv/lib/python3.12/site-packages (from torch) (12.1.105)\n",
      "Requirement already satisfied: nvidia-cudnn-cu12==9.1.0.70 in ./.venv/lib/python3.12/site-packages (from torch) (9.1.0.70)\n",
      "Requirement already satisfied: nvidia-cublas-cu12==12.1.3.1 in ./.venv/lib/python3.12/site-packages (from torch) (12.1.3.1)\n",
      "Requirement already satisfied: nvidia-cufft-cu12==11.0.2.54 in ./.venv/lib/python3.12/site-packages (from torch) (11.0.2.54)\n",
      "Requirement already satisfied: nvidia-curand-cu12==10.3.2.106 in ./.venv/lib/python3.12/site-packages (from torch) (10.3.2.106)\n",
      "Requirement already satisfied: nvidia-cusolver-cu12==11.4.5.107 in ./.venv/lib/python3.12/site-packages (from torch) (11.4.5.107)\n",
      "Requirement already satisfied: nvidia-cusparse-cu12==12.1.0.106 in ./.venv/lib/python3.12/site-packages (from torch) (12.1.0.106)\n",
      "Requirement already satisfied: nvidia-nccl-cu12==2.21.5 in ./.venv/lib/python3.12/site-packages (from torch) (2.21.5)\n",
      "Requirement already satisfied: nvidia-nvtx-cu12==12.1.105 in ./.venv/lib/python3.12/site-packages (from torch) (12.1.105)\n",
      "Requirement already satisfied: triton==3.1.0 in ./.venv/lib/python3.12/site-packages (from torch) (3.1.0)\n",
      "Requirement already satisfied: setuptools in ./.venv/lib/python3.12/site-packages (from torch) (70.2.0)\n",
      "Requirement already satisfied: sympy==1.13.1 in ./.venv/lib/python3.12/site-packages (from torch) (1.13.1)\n",
      "Requirement already satisfied: nvidia-nvjitlink-cu12 in ./.venv/lib/python3.12/site-packages (from nvidia-cusolver-cu12==11.4.5.107->torch) (12.1.105)\n",
      "Requirement already satisfied: mpmath<1.4,>=1.1.0 in ./.venv/lib/python3.12/site-packages (from sympy==1.13.1->torch) (1.3.0)\n",
      "Requirement already satisfied: numpy in ./.venv/lib/python3.12/site-packages (from torchvision) (2.2.5)\n",
      "Requirement already satisfied: pillow!=8.3.*,>=5.3.0 in ./.venv/lib/python3.12/site-packages (from torchvision) (11.2.1)\n",
      "Requirement already satisfied: MarkupSafe>=2.0 in ./.venv/lib/python3.12/site-packages (from jinja2->torch) (2.1.5)\n",
      "Note: you may need to restart the kernel to use updated packages.\n"
     ]
    }
   ],
   "source": [
    "%pip install torch torchvision torchaudio --index-url https://download.pytorch.org/whl/cu121\n"
   ]
  },
  {
   "cell_type": "code",
   "execution_count": 2,
   "id": "c7d2b6bf",
   "metadata": {},
   "outputs": [
    {
     "name": "stdout",
     "output_type": "stream",
     "text": [
      "Requirement already satisfied: pytorch-forecasting in ./.venv/lib/python3.12/site-packages (1.3.0)\n",
      "Requirement already satisfied: pytorch-lightning in ./.venv/lib/python3.12/site-packages (2.5.1)\n",
      "Requirement already satisfied: scikit-learn in ./.venv/lib/python3.12/site-packages (1.6.1)\n",
      "Requirement already satisfied: matplotlib in ./.venv/lib/python3.12/site-packages (3.10.1)\n",
      "Requirement already satisfied: numpy in ./.venv/lib/python3.12/site-packages (2.2.5)\n",
      "Requirement already satisfied: pandas in ./.venv/lib/python3.12/site-packages (2.2.3)\n",
      "Requirement already satisfied: torch!=2.0.1,<3.0.0,>=2.0.0 in ./.venv/lib/python3.12/site-packages (from pytorch-forecasting) (2.5.1+cu121)\n",
      "Requirement already satisfied: lightning<3.0.0,>=2.0.0 in ./.venv/lib/python3.12/site-packages (from pytorch-forecasting) (2.5.1)\n",
      "Requirement already satisfied: scipy<2.0,>=1.8 in ./.venv/lib/python3.12/site-packages (from pytorch-forecasting) (1.15.2)\n",
      "Requirement already satisfied: tqdm>=4.57.0 in ./.venv/lib/python3.12/site-packages (from pytorch-lightning) (4.67.1)\n",
      "Requirement already satisfied: PyYAML>=5.4 in ./.venv/lib/python3.12/site-packages (from pytorch-lightning) (6.0.2)\n",
      "Requirement already satisfied: fsspec>=2022.5.0 in ./.venv/lib/python3.12/site-packages (from fsspec[http]>=2022.5.0->pytorch-lightning) (2024.6.1)\n",
      "Requirement already satisfied: torchmetrics>=0.7.0 in ./.venv/lib/python3.12/site-packages (from pytorch-lightning) (1.7.1)\n",
      "Requirement already satisfied: packaging>=20.0 in ./.venv/lib/python3.12/site-packages (from pytorch-lightning) (24.2)\n",
      "Requirement already satisfied: typing-extensions>=4.4.0 in ./.venv/lib/python3.12/site-packages (from pytorch-lightning) (4.12.2)\n",
      "Requirement already satisfied: lightning-utilities>=0.10.0 in ./.venv/lib/python3.12/site-packages (from pytorch-lightning) (0.14.3)\n",
      "Requirement already satisfied: joblib>=1.2.0 in ./.venv/lib/python3.12/site-packages (from scikit-learn) (1.4.2)\n",
      "Requirement already satisfied: threadpoolctl>=3.1.0 in ./.venv/lib/python3.12/site-packages (from scikit-learn) (3.6.0)\n",
      "Requirement already satisfied: contourpy>=1.0.1 in ./.venv/lib/python3.12/site-packages (from matplotlib) (1.3.2)\n",
      "Requirement already satisfied: cycler>=0.10 in ./.venv/lib/python3.12/site-packages (from matplotlib) (0.12.1)\n",
      "Requirement already satisfied: fonttools>=4.22.0 in ./.venv/lib/python3.12/site-packages (from matplotlib) (4.57.0)\n",
      "Requirement already satisfied: kiwisolver>=1.3.1 in ./.venv/lib/python3.12/site-packages (from matplotlib) (1.4.8)\n",
      "Requirement already satisfied: pillow>=8 in ./.venv/lib/python3.12/site-packages (from matplotlib) (11.2.1)\n",
      "Requirement already satisfied: pyparsing>=2.3.1 in ./.venv/lib/python3.12/site-packages (from matplotlib) (3.2.3)\n",
      "Requirement already satisfied: python-dateutil>=2.7 in ./.venv/lib/python3.12/site-packages (from matplotlib) (2.9.0.post0)\n",
      "Requirement already satisfied: pytz>=2020.1 in ./.venv/lib/python3.12/site-packages (from pandas) (2025.2)\n",
      "Requirement already satisfied: tzdata>=2022.7 in ./.venv/lib/python3.12/site-packages (from pandas) (2025.2)\n",
      "Requirement already satisfied: aiohttp!=4.0.0a0,!=4.0.0a1 in ./.venv/lib/python3.12/site-packages (from fsspec[http]>=2022.5.0->pytorch-lightning) (3.11.18)\n",
      "Requirement already satisfied: setuptools in ./.venv/lib/python3.12/site-packages (from lightning-utilities>=0.10.0->pytorch-lightning) (70.2.0)\n",
      "Requirement already satisfied: six>=1.5 in ./.venv/lib/python3.12/site-packages (from python-dateutil>=2.7->matplotlib) (1.17.0)\n",
      "Requirement already satisfied: filelock in ./.venv/lib/python3.12/site-packages (from torch!=2.0.1,<3.0.0,>=2.0.0->pytorch-forecasting) (3.13.1)\n",
      "Requirement already satisfied: networkx in ./.venv/lib/python3.12/site-packages (from torch!=2.0.1,<3.0.0,>=2.0.0->pytorch-forecasting) (3.3)\n",
      "Requirement already satisfied: jinja2 in ./.venv/lib/python3.12/site-packages (from torch!=2.0.1,<3.0.0,>=2.0.0->pytorch-forecasting) (3.1.4)\n",
      "Requirement already satisfied: nvidia-cuda-nvrtc-cu12==12.1.105 in ./.venv/lib/python3.12/site-packages (from torch!=2.0.1,<3.0.0,>=2.0.0->pytorch-forecasting) (12.1.105)\n",
      "Requirement already satisfied: nvidia-cuda-runtime-cu12==12.1.105 in ./.venv/lib/python3.12/site-packages (from torch!=2.0.1,<3.0.0,>=2.0.0->pytorch-forecasting) (12.1.105)\n",
      "Requirement already satisfied: nvidia-cuda-cupti-cu12==12.1.105 in ./.venv/lib/python3.12/site-packages (from torch!=2.0.1,<3.0.0,>=2.0.0->pytorch-forecasting) (12.1.105)\n",
      "Requirement already satisfied: nvidia-cudnn-cu12==9.1.0.70 in ./.venv/lib/python3.12/site-packages (from torch!=2.0.1,<3.0.0,>=2.0.0->pytorch-forecasting) (9.1.0.70)\n",
      "Requirement already satisfied: nvidia-cublas-cu12==12.1.3.1 in ./.venv/lib/python3.12/site-packages (from torch!=2.0.1,<3.0.0,>=2.0.0->pytorch-forecasting) (12.1.3.1)\n",
      "Requirement already satisfied: nvidia-cufft-cu12==11.0.2.54 in ./.venv/lib/python3.12/site-packages (from torch!=2.0.1,<3.0.0,>=2.0.0->pytorch-forecasting) (11.0.2.54)\n",
      "Requirement already satisfied: nvidia-curand-cu12==10.3.2.106 in ./.venv/lib/python3.12/site-packages (from torch!=2.0.1,<3.0.0,>=2.0.0->pytorch-forecasting) (10.3.2.106)\n",
      "Requirement already satisfied: nvidia-cusolver-cu12==11.4.5.107 in ./.venv/lib/python3.12/site-packages (from torch!=2.0.1,<3.0.0,>=2.0.0->pytorch-forecasting) (11.4.5.107)\n",
      "Requirement already satisfied: nvidia-cusparse-cu12==12.1.0.106 in ./.venv/lib/python3.12/site-packages (from torch!=2.0.1,<3.0.0,>=2.0.0->pytorch-forecasting) (12.1.0.106)\n",
      "Requirement already satisfied: nvidia-nccl-cu12==2.21.5 in ./.venv/lib/python3.12/site-packages (from torch!=2.0.1,<3.0.0,>=2.0.0->pytorch-forecasting) (2.21.5)\n",
      "Requirement already satisfied: nvidia-nvtx-cu12==12.1.105 in ./.venv/lib/python3.12/site-packages (from torch!=2.0.1,<3.0.0,>=2.0.0->pytorch-forecasting) (12.1.105)\n",
      "Requirement already satisfied: triton==3.1.0 in ./.venv/lib/python3.12/site-packages (from torch!=2.0.1,<3.0.0,>=2.0.0->pytorch-forecasting) (3.1.0)\n",
      "Requirement already satisfied: sympy==1.13.1 in ./.venv/lib/python3.12/site-packages (from torch!=2.0.1,<3.0.0,>=2.0.0->pytorch-forecasting) (1.13.1)\n",
      "Requirement already satisfied: nvidia-nvjitlink-cu12 in ./.venv/lib/python3.12/site-packages (from nvidia-cusolver-cu12==11.4.5.107->torch!=2.0.1,<3.0.0,>=2.0.0->pytorch-forecasting) (12.1.105)\n",
      "Requirement already satisfied: mpmath<1.4,>=1.1.0 in ./.venv/lib/python3.12/site-packages (from sympy==1.13.1->torch!=2.0.1,<3.0.0,>=2.0.0->pytorch-forecasting) (1.3.0)\n",
      "Requirement already satisfied: aiohappyeyeballs>=2.3.0 in ./.venv/lib/python3.12/site-packages (from aiohttp!=4.0.0a0,!=4.0.0a1->fsspec[http]>=2022.5.0->pytorch-lightning) (2.6.1)\n",
      "Requirement already satisfied: aiosignal>=1.1.2 in ./.venv/lib/python3.12/site-packages (from aiohttp!=4.0.0a0,!=4.0.0a1->fsspec[http]>=2022.5.0->pytorch-lightning) (1.3.2)\n",
      "Requirement already satisfied: attrs>=17.3.0 in ./.venv/lib/python3.12/site-packages (from aiohttp!=4.0.0a0,!=4.0.0a1->fsspec[http]>=2022.5.0->pytorch-lightning) (25.3.0)\n",
      "Requirement already satisfied: frozenlist>=1.1.1 in ./.venv/lib/python3.12/site-packages (from aiohttp!=4.0.0a0,!=4.0.0a1->fsspec[http]>=2022.5.0->pytorch-lightning) (1.6.0)\n",
      "Requirement already satisfied: multidict<7.0,>=4.5 in ./.venv/lib/python3.12/site-packages (from aiohttp!=4.0.0a0,!=4.0.0a1->fsspec[http]>=2022.5.0->pytorch-lightning) (6.4.3)\n",
      "Requirement already satisfied: propcache>=0.2.0 in ./.venv/lib/python3.12/site-packages (from aiohttp!=4.0.0a0,!=4.0.0a1->fsspec[http]>=2022.5.0->pytorch-lightning) (0.3.1)\n",
      "Requirement already satisfied: yarl<2.0,>=1.17.0 in ./.venv/lib/python3.12/site-packages (from aiohttp!=4.0.0a0,!=4.0.0a1->fsspec[http]>=2022.5.0->pytorch-lightning) (1.20.0)\n",
      "Requirement already satisfied: MarkupSafe>=2.0 in ./.venv/lib/python3.12/site-packages (from jinja2->torch!=2.0.1,<3.0.0,>=2.0.0->pytorch-forecasting) (2.1.5)\n",
      "Requirement already satisfied: idna>=2.0 in ./.venv/lib/python3.12/site-packages (from yarl<2.0,>=1.17.0->aiohttp!=4.0.0a0,!=4.0.0a1->fsspec[http]>=2022.5.0->pytorch-lightning) (3.10)\n",
      "Note: you may need to restart the kernel to use updated packages.\n"
     ]
    }
   ],
   "source": [
    "%pip install pytorch-forecasting pytorch-lightning scikit-learn matplotlib numpy pandas"
   ]
  },
  {
   "cell_type": "code",
   "execution_count": 3,
   "id": "02c65aae",
   "metadata": {},
   "outputs": [
    {
     "name": "stderr",
     "output_type": "stream",
     "text": [
      "/media/rohan/c79d22f9-b491-4e0f-8248-6ca5b671d076/major_project2/.venv/lib/python3.12/site-packages/pytorch_forecasting/models/base_model.py:27: TqdmWarning: IProgress not found. Please update jupyter and ipywidgets. See https://ipywidgets.readthedocs.io/en/stable/user_install.html\n",
      "  from tqdm.autonotebook import tqdm\n"
     ]
    }
   ],
   "source": [
    "# two_stage_zero_inflation_tft.py\n",
    "\"\"\"\n",
    "End-to-end two-stage zero-inflated flood prediction with Temporal Fusion Transformer.\n",
    "Stage 1: predict flood possibility (binary).\n",
    "Stage 2: predict flood probability, trained with imbalance sampler.\n",
    "Inference: final_prob = pi * p.\n",
    "\"\"\"\n",
    "\n",
    "import random\n",
    "import pandas as pd\n",
    "import numpy as np\n",
    "import torch\n",
    "import torch.nn as nn\n",
    "from torch.utils.data import WeightedRandomSampler\n",
    "import matplotlib.pyplot as plt\n",
    "import seaborn as sns\n",
    "\n",
    "from pytorch_forecasting import TemporalFusionTransformer, TimeSeriesDataSet\n",
    "from pytorch_forecasting.data import NaNLabelEncoder\n",
    "from lightning.pytorch import Trainer\n",
    "from lightning.pytorch.callbacks import EarlyStopping, LearningRateMonitor, ModelCheckpoint\n",
    "from sklearn.metrics import classification_report, confusion_matrix, roc_auc_score, roc_curve, precision_recall_curve\n",
    "\n",
    "# ------------------ 0. Seed ------------------\n",
    "def seed_everything(seed: int = 42):\n",
    "    random.seed(seed)\n",
    "    np.random.seed(seed)\n",
    "    torch.manual_seed(seed)\n",
    "    torch.cuda.manual_seed_all(seed)\n",
    "    torch.backends.cudnn.deterministic = True\n",
    "    torch.backends.cudnn.benchmark = False\n",
    "\n",
    "seed_everything(42)\n",
    "\n",
    "from torchmetrics import Metric\n",
    "\n",
    "class BCELossMetric(Metric):\n",
    "    \"\"\"\n",
    "    Wraps nn.BCEWithLogitsLoss as a torchmetrics.Metric so TFT can use it.\n",
    "    Accumulates per‐batch loss into a global mean.\n",
    "    \"\"\"\n",
    "    full_state_update: bool = False\n",
    "\n",
    "    def __init__(self, pos_weight=None, reduction=\"mean\"):\n",
    "        super().__init__()\n",
    "        # create the actual loss module\n",
    "        self.loss_fn = nn.BCEWithLogitsLoss(pos_weight=pos_weight, reduction=reduction)\n",
    "        # states for accumulating\n",
    "        self.add_state(\"sum_loss\", default=torch.tensor(0.0), dist_reduce_fx=\"sum\")\n",
    "        self.add_state(\"count\",    default=torch.tensor(0),   dist_reduce_fx=\"sum\")\n",
    "\n",
    "    def update(self, preds: torch.Tensor, target: torch.Tensor):\n",
    "        \"\"\"\n",
    "        preds: raw logits from TFT, shape [batch_size, 1]\n",
    "        target: true labels, same shape\n",
    "        \"\"\"\n",
    "        # ensure shapes match\n",
    "        preds = preds.view(-1)\n",
    "        target = target.view(-1).float()\n",
    "        loss = self.loss_fn(preds, target)\n",
    "        # accumulate sum and count\n",
    "        self.sum_loss += loss * target.size(0)\n",
    "        self.count    += target.size(0)\n",
    "\n",
    "    def compute(self):\n",
    "        # return the average loss\n",
    "        return self.sum_loss / self.count\n"
   ]
  },
  {
   "cell_type": "code",
   "execution_count": 4,
   "id": "50ed41cc",
   "metadata": {},
   "outputs": [
    {
     "name": "stderr",
     "output_type": "stream",
     "text": [
      "/tmp/ipykernel_223199/1029252975.py:20: SettingWithCopyWarning: \n",
      "A value is trying to be set on a copy of a slice from a DataFrame.\n",
      "Try using .loc[row_indexer,col_indexer] = value instead\n",
      "\n",
      "See the caveats in the documentation: https://pandas.pydata.org/pandas-docs/stable/user_guide/indexing.html#returning-a-view-versus-a-copy\n",
      "  train_df[\"FLOOD_BINARY\"] = (train_df[\"FLOOD\"] > 0).astype(int)\n",
      "/tmp/ipykernel_223199/1029252975.py:21: SettingWithCopyWarning: \n",
      "A value is trying to be set on a copy of a slice from a DataFrame.\n",
      "Try using .loc[row_indexer,col_indexer] = value instead\n",
      "\n",
      "See the caveats in the documentation: https://pandas.pydata.org/pandas-docs/stable/user_guide/indexing.html#returning-a-view-versus-a-copy\n",
      "  val_df[\"FLOOD_BINARY\"] = (val_df[\"FLOOD\"] > 0).astype(int)\n"
     ]
    }
   ],
   "source": [
    "# ------------------ 1. Load & preprocess data ------------------\n",
    "# Adjust file path as needed\n",
    "data = pd.read_csv(\n",
    "    \"/media/rohan/c79d22f9-b491-4e0f-8248-6ca5b671d076/major_project2/rainfall_with_correct_flood_labels.csv\"\n",
    ")\n",
    "data[\"TIME\"] = pd.to_datetime(data[\"TIME\"])\n",
    "data[\"location_id\"] = data[\"LATITUDE\"].astype(str) + \"_\" + data[\"LONGITUDE\"].astype(str)\n",
    "data = data.sort_values([\"location_id\", \"TIME\"]).reset_index(drop=True)\n",
    "data[\"time_idx\"] = (data[\"TIME\"] - data[\"TIME\"].min()).dt.days\n",
    "# ensure categorical\n",
    "for col in [\"DISTRICT\", \"STATE\"]:\n",
    "    data[col] = data[col].astype(\"category\")\n",
    "\n",
    "# train/validation split\n",
    "date_cut = int(data[\"time_idx\"].quantile(0.7))\n",
    "train_df = data[data[\"time_idx\"] <= date_cut]\n",
    "val_df   = data[data[\"time_idx\"] >  date_cut]\n",
    "\n",
    "# create binary target for Stage 1\n",
    "train_df[\"FLOOD_BINARY\"] = (train_df[\"FLOOD\"] > 0).astype(int)\n",
    "val_df[\"FLOOD_BINARY\"] = (val_df[\"FLOOD\"] > 0).astype(int)\n",
    "\n",
    "# common params\n",
    "max_encoder_length    = 90\n",
    "max_prediction_length = 50\n",
    "batch_size            = 256\n"
   ]
  },
  {
   "cell_type": "code",
   "execution_count": 5,
   "id": "9ebbb8d7",
   "metadata": {},
   "outputs": [],
   "source": [
    "# ------------------ 2. Stage 1: Flood Possibility ------------------\n",
    "training_binary = TimeSeriesDataSet(\n",
    "    train_df,\n",
    "    time_idx=\"time_idx\",\n",
    "    target=\"FLOOD_BINARY\",\n",
    "    group_ids=[\"location_id\"],\n",
    "    static_categoricals=[\"location_id\"],\n",
    "    static_reals=[\"LATITUDE\", \"LONGITUDE\"],\n",
    "    time_varying_known_categoricals=[\"DISTRICT\", \"STATE\"],\n",
    "    time_varying_known_reals=[\"RAINFALL\"],\n",
    "    time_varying_unknown_reals=[\"FLOOD_BINARY\"],\n",
    "    max_encoder_length=max_encoder_length,\n",
    "    max_prediction_length=max_prediction_length,\n",
    "    target_normalizer=NaNLabelEncoder(),\n",
    "    add_relative_time_idx=True,\n",
    "    add_target_scales=True,\n",
    "    add_encoder_length=True,\n",
    "    allow_missing_timesteps=True,\n",
    ")\n",
    "validation_binary = TimeSeriesDataSet.from_dataset(\n",
    "    training_binary, val_df, predict=True, stop_randomization=True\n",
    ")\n",
    "train_loader_bin = training_binary.to_dataloader(train=True, batch_size=batch_size, num_workers=4)\n",
    "val_loader_bin   = validation_binary.to_dataloader(train=False, batch_size=batch_size, num_workers=4)\n"
   ]
  },
  {
   "cell_type": "code",
   "execution_count": 6,
   "id": "f60a5bfa",
   "metadata": {},
   "outputs": [
    {
     "name": "stderr",
     "output_type": "stream",
     "text": [
      "/media/rohan/c79d22f9-b491-4e0f-8248-6ca5b671d076/major_project2/.venv/lib/python3.12/site-packages/lightning/pytorch/utilities/parsing.py:209: Attribute 'loss' is an instance of `nn.Module` and is already saved during checkpointing. It is recommended to ignore them using `self.save_hyperparameters(ignore=['loss'])`.\n",
      "/media/rohan/c79d22f9-b491-4e0f-8248-6ca5b671d076/major_project2/.venv/lib/python3.12/site-packages/lightning/pytorch/utilities/parsing.py:209: Attribute 'logging_metrics' is an instance of `nn.Module` and is already saved during checkpointing. It is recommended to ignore them using `self.save_hyperparameters(ignore=['logging_metrics'])`.\n",
      "GPU available: True (cuda), used: True\n",
      "TPU available: False, using: 0 TPU cores\n",
      "HPU available: False, using: 0 HPUs\n",
      "/media/rohan/c79d22f9-b491-4e0f-8248-6ca5b671d076/major_project2/.venv/lib/python3.12/site-packages/lightning/pytorch/trainer/connectors/logger_connector/logger_connector.py:76: Starting from v1.9.0, `tensorboardX` has been removed as a dependency of the `lightning.pytorch` package, due to potential conflicts with other packages in the ML ecosystem. For this reason, `logger=True` will use `CSVLogger` as the default logger, unless the `tensorboard` or `tensorboardX` packages are found. Please `pip install lightning[extra]` or one of them to enable TensorBoard support by default\n",
      "LOCAL_RANK: 0 - CUDA_VISIBLE_DEVICES: [0]\n",
      "\n",
      "   | Name                               | Type                            | Params | Mode \n",
      "------------------------------------------------------------------------------------------------\n",
      "0  | loss                               | TorchMetricWrapper              | 0      | train\n",
      "1  | logging_metrics                    | ModuleList                      | 0      | train\n",
      "2  | input_embeddings                   | MultiEmbedding                  | 3.2 K  | train\n",
      "3  | prescalers                         | ModuleDict                      | 192    | train\n",
      "4  | static_variable_selection          | VariableSelectionNetwork        | 9.8 K  | train\n",
      "5  | encoder_variable_selection         | VariableSelectionNetwork        | 10.3 K | train\n",
      "6  | decoder_variable_selection         | VariableSelectionNetwork        | 7.0 K  | train\n",
      "7  | static_context_variable_selection  | GatedResidualNetwork            | 16.8 K | train\n",
      "8  | static_context_initial_hidden_lstm | GatedResidualNetwork            | 16.8 K | train\n",
      "9  | static_context_initial_cell_lstm   | GatedResidualNetwork            | 16.8 K | train\n",
      "10 | static_context_enrichment          | GatedResidualNetwork            | 16.8 K | train\n",
      "11 | lstm_encoder                       | LSTM                            | 33.3 K | train\n",
      "12 | lstm_decoder                       | LSTM                            | 33.3 K | train\n",
      "13 | post_lstm_gate_encoder             | GatedLinearUnit                 | 8.3 K  | train\n",
      "14 | post_lstm_add_norm_encoder         | AddNorm                         | 128    | train\n",
      "15 | static_enrichment                  | GatedResidualNetwork            | 20.9 K | train\n",
      "16 | multihead_attn                     | InterpretableMultiHeadAttention | 10.4 K | train\n",
      "17 | post_attn_gate_norm                | GateAddNorm                     | 8.4 K  | train\n",
      "18 | pos_wise_ff                        | GatedResidualNetwork            | 16.8 K | train\n",
      "19 | pre_output_gate_norm               | GateAddNorm                     | 8.4 K  | train\n",
      "20 | output_layer                       | Linear                          | 65     | train\n",
      "------------------------------------------------------------------------------------------------\n",
      "237 K     Trainable params\n",
      "0         Non-trainable params\n",
      "237 K     Total params\n",
      "0.949     Total estimated model params size (MB)\n",
      "304       Modules in train mode\n",
      "0         Modules in eval mode\n"
     ]
    },
    {
     "name": "stdout",
     "output_type": "stream",
     "text": [
      "Epoch 5: 100%|██████████| 3920/3920 [34:34<00:00,  1.89it/s, v_num=74, train_loss_step=2.070, val_loss=50.60, train_loss_epoch=0.433] \n"
     ]
    }
   ],
   "source": [
    "# compute positive‐class weight if you like; else leave pos_weight=None\n",
    "y = train_df[\"FLOOD_BINARY\"].values\n",
    "counts = np.bincount(y)\n",
    "pos_weight = torch.tensor(counts[0] / counts[1])\n",
    "\n",
    "loss=BCELossMetric(pos_weight=pos_weight)\n",
    "\n",
    "# model and trainer for Stage 1\n",
    "model_bin = TemporalFusionTransformer.from_dataset(\n",
    "    training_binary,\n",
    "    learning_rate=1e-3,\n",
    "    hidden_size=64,\n",
    "    attention_head_size=4,\n",
    "    dropout=0.1,\n",
    "    hidden_continuous_size=16,\n",
    "    output_size=1,\n",
    "    loss=BCELossMetric(pos_weight=pos_weight),\n",
    "    log_interval=10,\n",
    "    reduce_on_plateau_patience=3,\n",
    ")\n",
    "checkpoint1 = ModelCheckpoint(monitor=\"val_loss\", save_top_k=1, mode=\"min\", filename=\"stage1-{epoch:02d}-{val_loss:.4f}\")\n",
    "trainer1 = Trainer(\n",
    "    max_epochs=20,\n",
    "    accelerator=\"auto\",\n",
    "    devices=\"auto\",\n",
    "    gradient_clip_val=0.1,\n",
    "    callbacks=[checkpoint1, EarlyStopping(monitor=\"val_loss\", patience=5), LearningRateMonitor()],\n",
    ")\n",
    "trainer1.fit(model_bin, train_dataloaders=train_loader_bin, val_dataloaders=val_loader_bin)\n"
   ]
  },
  {
   "cell_type": "code",
   "execution_count": 8,
   "id": "77d004ac",
   "metadata": {},
   "outputs": [],
   "source": [
    "# ------------------ 3. Stage 2: Flood Probability ------------------\n",
    "# Use full train_df target FLOOD but oversample floods\n",
    "y = train_df[\"FLOOD\"].values\n",
    "counts = np.bincount(y)\n",
    "pos_weight = counts[0] / counts[1]\n",
    "\n",
    "training_stage2 = TimeSeriesDataSet(\n",
    "    train_df,\n",
    "    time_idx=\"time_idx\",\n",
    "    target=\"FLOOD\",\n",
    "    group_ids=[\"location_id\"],\n",
    "    static_categoricals=[\"location_id\"],\n",
    "    static_reals=[\"LATITUDE\", \"LONGITUDE\"],\n",
    "    time_varying_known_categoricals=[\"DISTRICT\", \"STATE\"],\n",
    "    time_varying_known_reals=[\"RAINFALL\"],\n",
    "    time_varying_unknown_reals=[\"FLOOD\"],\n",
    "    max_encoder_length=max_encoder_length,\n",
    "    max_prediction_length=max_prediction_length,\n",
    "    target_normalizer=NaNLabelEncoder(),\n",
    "    add_relative_time_idx=True,\n",
    "    add_target_scales=True,\n",
    "    add_encoder_length=True,\n",
    "    allow_missing_timesteps=True,\n",
    ")\n",
    "validation_stage2 = TimeSeriesDataSet.from_dataset(\n",
    "    training_stage2, val_df, predict=True, stop_randomization=True\n",
    ")"
   ]
  },
  {
   "cell_type": "code",
   "execution_count": 11,
   "id": "c7464ab3",
   "metadata": {},
   "outputs": [
    {
     "name": "stdout",
     "output_type": "stream",
     "text": [
      "0 time_first\n",
      "1 time_last\n",
      "2 time_diff_to_next\n",
      "3 index_start\n",
      "4 time\n",
      "5 count\n",
      "6 sequence_id\n",
      "7 index_end\n",
      "8 sequence_length\n"
     ]
    }
   ],
   "source": [
    "# Print the first 10 entries of the index to see their structure\n",
    "for i, idx_tuple in enumerate(training_stage2.index):\n",
    "    print(i, idx_tuple)\n",
    "    if i >= 9:\n",
    "        break\n"
   ]
  },
  {
   "cell_type": "code",
   "execution_count": 15,
   "id": "9d83fb1b",
   "metadata": {},
   "outputs": [
    {
     "name": "stdout",
     "output_type": "stream",
     "text": [
      "<class 'pandas.core.frame.DataFrame'>\n",
      "   time_first  time_last  time_diff_to_next  index_start  time  count  \\\n",
      "0           0      11484                  1            0     0  11485   \n",
      "1           0      11484                  1            1     1  11485   \n",
      "2           0      11484                  1            2     2  11485   \n",
      "3           0      11484                  1            3     3  11485   \n",
      "4           0      11484                  1            4     4  11485   \n",
      "\n",
      "   sequence_id  index_end  sequence_length  \n",
      "0            0        139              140  \n",
      "1            0        140              140  \n",
      "2            0        141              140  \n",
      "3            0        142              140  \n",
      "4            0        143              140  \n"
     ]
    }
   ],
   "source": [
    "# Show the first 10 index tuples (not the DataFrame columns)\n",
    "print(type(training_stage2.index))\n",
    "print(training_stage2.index[:5])\n"
   ]
  },
  {
   "cell_type": "code",
   "execution_count": 16,
   "id": "3b28a528",
   "metadata": {},
   "outputs": [],
   "source": [
    "weights2 = []\n",
    "for i, row in training_stage2.index.iterrows():\n",
    "    end_idx = row[\"index_end\"]  # already an integer\n",
    "    lbl = data.iloc[end_idx][\"FLOOD\"]\n",
    "    weights2.append(pos_weight if lbl == 1 else 1.0)\n",
    "\n",
    "sampler2 = WeightedRandomSampler(weights2, num_samples=len(weights2), replacement=True)\n"
   ]
  },
  {
   "cell_type": "code",
   "execution_count": 19,
   "id": "73c43b29",
   "metadata": {},
   "outputs": [
    {
     "name": "stderr",
     "output_type": "stream",
     "text": [
      "GPU available: True (cuda), used: True\n",
      "TPU available: False, using: 0 TPU cores\n",
      "HPU available: False, using: 0 HPUs\n",
      "LOCAL_RANK: 0 - CUDA_VISIBLE_DEVICES: [0]\n",
      "\n",
      "   | Name                               | Type                            | Params | Mode \n",
      "------------------------------------------------------------------------------------------------\n",
      "0  | loss                               | TorchMetricWrapper              | 0      | train\n",
      "1  | logging_metrics                    | ModuleList                      | 0      | train\n",
      "2  | input_embeddings                   | MultiEmbedding                  | 3.2 K  | train\n",
      "3  | prescalers                         | ModuleDict                      | 192    | train\n",
      "4  | static_variable_selection          | VariableSelectionNetwork        | 9.8 K  | train\n",
      "5  | encoder_variable_selection         | VariableSelectionNetwork        | 10.3 K | train\n",
      "6  | decoder_variable_selection         | VariableSelectionNetwork        | 7.0 K  | train\n",
      "7  | static_context_variable_selection  | GatedResidualNetwork            | 16.8 K | train\n",
      "8  | static_context_initial_hidden_lstm | GatedResidualNetwork            | 16.8 K | train\n",
      "9  | static_context_initial_cell_lstm   | GatedResidualNetwork            | 16.8 K | train\n",
      "10 | static_context_enrichment          | GatedResidualNetwork            | 16.8 K | train\n",
      "11 | lstm_encoder                       | LSTM                            | 33.3 K | train\n",
      "12 | lstm_decoder                       | LSTM                            | 33.3 K | train\n",
      "13 | post_lstm_gate_encoder             | GatedLinearUnit                 | 8.3 K  | train\n",
      "14 | post_lstm_add_norm_encoder         | AddNorm                         | 128    | train\n",
      "15 | static_enrichment                  | GatedResidualNetwork            | 20.9 K | train\n",
      "16 | multihead_attn                     | InterpretableMultiHeadAttention | 10.4 K | train\n",
      "17 | post_attn_gate_norm                | GateAddNorm                     | 8.4 K  | train\n",
      "18 | pos_wise_ff                        | GatedResidualNetwork            | 16.8 K | train\n",
      "19 | pre_output_gate_norm               | GateAddNorm                     | 8.4 K  | train\n",
      "20 | output_layer                       | Linear                          | 65     | train\n",
      "------------------------------------------------------------------------------------------------\n",
      "237 K     Trainable params\n",
      "0         Non-trainable params\n",
      "237 K     Total params\n",
      "0.949     Total estimated model params size (MB)\n",
      "304       Modules in train mode\n",
      "0         Modules in eval mode\n"
     ]
    },
    {
     "name": "stdout",
     "output_type": "stream",
     "text": [
      "Epoch 5: 100%|██████████| 3920/3920 [34:45<00:00,  1.88it/s, v_num=75, train_loss_step=0.308, val_loss=43.80, train_loss_epoch=0.429] \n"
     ]
    }
   ],
   "source": [
    "\n",
    "\n",
    "\n",
    "\n",
    "\n",
    "# build sampler for Stage2 to oversample flood windows\n",
    "# ------------------ build sampler for Stage2 to oversample flood windows ------------------\n",
    "\n",
    "# weights2 = []\n",
    "# for (start, end) in training_stage2.index:\n",
    "#     lbl = train_df.iloc[end][\"FLOOD\"]\n",
    "#     weights2.append(pos_weight if lbl==1 else 1.0)\n",
    "# sampler2 = WeightedRandomSampler(weights2, num_samples=len(weights2), replacement=True)\n",
    "train_loader_stage2 = training_stage2.to_dataloader(train=True, batch_size=batch_size, sampler=sampler2,shuffle=False, num_workers=4)\n",
    "val_loader_stage2   = validation_stage2.to_dataloader(train=False, batch_size=batch_size, num_workers=4)\n",
    "\n",
    "model_stage2 = TemporalFusionTransformer.from_dataset(\n",
    "    training_stage2,\n",
    "    learning_rate=1e-3,\n",
    "    hidden_size=64,\n",
    "    attention_head_size=4,\n",
    "    dropout=0.1,\n",
    "    hidden_continuous_size=16,\n",
    "    output_size=1,\n",
    "    loss=BCELossMetric(pos_weight=torch.tensor(pos_weight)),\n",
    "    log_interval=10,\n",
    "    reduce_on_plateau_patience=3,\n",
    ")\n",
    "checkpoint2 = ModelCheckpoint(monitor=\"val_loss\", save_top_k=1, mode=\"min\", filename=\"stage2-{epoch:02d}-{val_loss:.4f}\")\n",
    "trainer2 = Trainer(\n",
    "    max_epochs=20,\n",
    "    accelerator=\"auto\",\n",
    "    devices=\"auto\",\n",
    "    gradient_clip_val=0.1,\n",
    "    callbacks=[checkpoint2, EarlyStopping(monitor=\"val_loss\", patience=5), LearningRateMonitor()],\n",
    ")\n",
    "trainer2.fit(model_stage2, train_dataloaders=train_loader_stage2, val_dataloaders=val_loader_stage2)\n"
   ]
  },
  {
   "cell_type": "code",
   "execution_count": null,
   "id": "7bcdbecf",
   "metadata": {},
   "outputs": [
    {
     "name": "stderr",
     "output_type": "stream",
     "text": [
      "You are using the plain ModelCheckpoint callback. Consider using LitModelCheckpoint which with seamless uploading to Model registry.\n",
      "GPU available: True (cuda), used: True\n",
      "TPU available: False, using: 0 TPU cores\n",
      "HPU available: False, using: 0 HPUs\n",
      "LOCAL_RANK: 0 - CUDA_VISIBLE_DEVICES: [0]\n",
      "You are using the plain ModelCheckpoint callback. Consider using LitModelCheckpoint which with seamless uploading to Model registry.\n",
      "GPU available: True (cuda), used: True\n",
      "TPU available: False, using: 0 TPU cores\n",
      "HPU available: False, using: 0 HPUs\n",
      "LOCAL_RANK: 0 - CUDA_VISIBLE_DEVICES: [0]\n",
      "You are using the plain ModelCheckpoint callback. Consider using LitModelCheckpoint which with seamless uploading to Model registry.\n",
      "GPU available: True (cuda), used: True\n",
      "TPU available: False, using: 0 TPU cores\n",
      "HPU available: False, using: 0 HPUs\n",
      "LOCAL_RANK: 0 - CUDA_VISIBLE_DEVICES: [0]\n"
     ]
    },
    {
     "name": "stdout",
     "output_type": "stream",
     "text": [
      "Best threshold: 0.17, F1: 0.0225\n",
      "              precision    recall  f1-score   support\n",
      "\n",
      "           0     0.9929    0.9800    0.9864      6453\n",
      "           1     0.0153    0.0426    0.0225        47\n",
      "\n",
      "    accuracy                         0.9732      6500\n",
      "   macro avg     0.5041    0.5113    0.5045      6500\n",
      "weighted avg     0.9859    0.9732    0.9795      6500\n",
      "\n"
     ]
    },
    {
     "data": {
      "image/png": "[encoded data removed]",
      "text/plain": [
       "<Figure size 640x480 with 1 Axes>"
      ]
     },
     "metadata": {},
     "output_type": "display_data"
    },
    {
     "data": {
      "image/png": "[encoded data removed]",
      "text/plain": [
       "<Figure size 640x480 with 1 Axes>"
      ]
     },
     "metadata": {},
     "output_type": "display_data"
    }
   ],
   "source": [
    "\n",
    "\n",
    "# ------------------ 4. Inference & Evaluation ------------------\n",
    "\n",
    "# Stage 1 probabilities → move to CPU → NumPy\n",
    "raw_pred1 = model_bin.predict(val_loader_bin, mode=\"prediction\")  # torch.Tensor on GPU\n",
    "pred1     = torch.sigmoid(raw_pred1).flatten().cpu().numpy()\n",
    "\n",
    "# Stage 2 raw logits → move to CPU → NumPy\n",
    "raw_pred2 = model_stage2.predict(val_loader_stage2, mode=\"prediction\")  # GPU tensor\n",
    "pred2     = torch.sigmoid(raw_pred2).flatten().cpu().numpy()\n",
    "\n",
    "# Final zero‐inflated probability (NumPy arrays)\n",
    "final_prob = pred1 * pred2\n",
    "\n",
    "# True labels aligned to Stage 2 windows\n",
    "predictions2 = model_stage2.predict(val_loader_stage2, mode=\"raw\", return_x=True)\n",
    "y_true      = predictions2.x[\"decoder_target\"].view(-1).cpu().numpy()\n",
    "\n",
    "# Threshold tuning\n",
    "from sklearn.metrics import f1_score, classification_report, roc_curve, precision_recall_curve, roc_auc_score\n",
    "\n",
    "best_thr, best_f1 = 0.3, 0.0\n",
    "for thr in np.linspace(0.1, 0.9, 81):\n",
    "    f1 = f1_score(y_true, (final_prob > thr).astype(int))\n",
    "    if f1 > best_f1:\n",
    "        best_f1, best_thr = f1, thr\n",
    "print(f\"Best threshold: {best_thr:.2f}, F1: {best_f1:.4f}\")\n",
    "\n",
    "# Classification report\n",
    "y_pred = (final_prob > best_thr).astype(int)\n",
    "print(classification_report(y_true, y_pred, digits=4))\n",
    "\n",
    "# ROC & PR curves\n",
    "fpr, tpr, _ = roc_curve(y_true, final_prob)\n",
    "plt.figure(); plt.plot(fpr, tpr, label=f\"AUC={roc_auc_score(y_true, final_prob):.4f}\")\n",
    "plt.plot([0, 1], [0, 1], \"--\", color=\"gray\"); plt.legend(); plt.title(\"ROC Curve\"); plt.show()\n",
    "\n",
    "precision, recall, _ = precision_recall_curve(y_true, final_prob)\n",
    "plt.figure(); plt.plot(recall, precision); plt.title(\"Precision-Recall Curve\"); plt.xlabel(\"Recall\"); plt.ylabel(\"Precision\"); plt.show()\n",
    "\n"
   ]
  },
  {
   "cell_type": "code",
   "execution_count": 26,
   "id": "91459305",
   "metadata": {},
   "outputs": [
    {
     "name": "stdout",
     "output_type": "stream",
     "text": [
      "Confusion Matrix:\n",
      "[[6324  129]\n",
      " [  45    2]]\n"
     ]
    },
    {
     "data": {
      "image/png": "[encoded data removed]",
      "text/plain": [
       "<Figure size 600x400 with 2 Axes>"
      ]
     },
     "metadata": {},
     "output_type": "display_data"
    }
   ],
   "source": [
    "from sklearn.metrics import confusion_matrix\n",
    "import seaborn as sns\n",
    "import matplotlib.pyplot as plt\n",
    "\n",
    "# y_true: true labels\n",
    "# y_pred: predicted labels (after thresholding)\n",
    "cm = confusion_matrix(y_true, y_pred)\n",
    "\n",
    "# Print it numerically\n",
    "print(\"Confusion Matrix:\")\n",
    "print(cm)\n",
    "\n",
    "# Plot it nicely\n",
    "plt.figure(figsize=(6, 4))\n",
    "sns.heatmap(cm, annot=True, fmt='d', cmap='Blues', xticklabels=[\"No Flood\", \"Flood\"], yticklabels=[\"No Flood\", \"Flood\"])\n",
    "plt.xlabel(\"Predicted\")\n",
    "plt.ylabel(\"Actual\")\n",
    "plt.title(\"Confusion Matrix\")\n",
    "plt.show()\n"
   ]
  }
 ],
 "metadata": {
  "kernelspec": {
   "display_name": ".venv",
   "language": "python",
   "name": "python3"
  },
  "language_info": {
   "codemirror_mode": {
    "name": "ipython",
    "version": 3
   },
   "file_extension": ".py",
   "mimetype": "text/x-python",
   "name": "python",
   "nbconvert_exporter": "python",
   "pygments_lexer": "ipython3",
   "version": "3.12.3"
  }
 },
 "nbformat": 4,
 "nbformat_minor": 5
}
